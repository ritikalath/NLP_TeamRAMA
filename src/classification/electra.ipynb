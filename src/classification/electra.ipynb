{
  "cells": [
    {
      "cell_type": "code",
      "execution_count": null,
      "metadata": {
        "colab": {
          "base_uri": "https://localhost:8080/"
        },
        "id": "LLV58IE1_-ZI",
        "outputId": "536627c1-dfb5-4692-9b6a-fda42b96a505"
      },
      "outputs": [
        {
          "output_type": "stream",
          "name": "stdout",
          "text": [
            "fatal: destination path 'ClariQ' already exists and is not an empty directory.\n"
          ]
        }
      ],
      "source": [
        "!git clone https://github.com/aliannejadi/ClariQ"
      ]
    },
    {
      "cell_type": "code",
      "execution_count": null,
      "metadata": {
        "colab": {
          "base_uri": "https://localhost:8080/"
        },
        "id": "oi-BRoMdAzDI",
        "outputId": "b043cea0-af66-4517-eb6e-cc9de08864d2"
      },
      "outputs": [
        {
          "output_type": "stream",
          "name": "stdout",
          "text": [
            "Looking in indexes: https://pypi.org/simple, https://us-python.pkg.dev/colab-wheels/public/simple/\n",
            "Requirement already satisfied: transformers in /usr/local/lib/python3.9/dist-packages (4.27.4)\n",
            "Requirement already satisfied: pyyaml>=5.1 in /usr/local/lib/python3.9/dist-packages (from transformers) (6.0)\n",
            "Requirement already satisfied: huggingface-hub<1.0,>=0.11.0 in /usr/local/lib/python3.9/dist-packages (from transformers) (0.13.3)\n",
            "Requirement already satisfied: regex!=2019.12.17 in /usr/local/lib/python3.9/dist-packages (from transformers) (2022.10.31)\n",
            "Requirement already satisfied: tqdm>=4.27 in /usr/local/lib/python3.9/dist-packages (from transformers) (4.65.0)\n",
            "Requirement already satisfied: tokenizers!=0.11.3,<0.14,>=0.11.1 in /usr/local/lib/python3.9/dist-packages (from transformers) (0.13.2)\n",
            "Requirement already satisfied: filelock in /usr/local/lib/python3.9/dist-packages (from transformers) (3.10.7)\n",
            "Requirement already satisfied: numpy>=1.17 in /usr/local/lib/python3.9/dist-packages (from transformers) (1.22.4)\n",
            "Requirement already satisfied: packaging>=20.0 in /usr/local/lib/python3.9/dist-packages (from transformers) (23.0)\n",
            "Requirement already satisfied: requests in /usr/local/lib/python3.9/dist-packages (from transformers) (2.27.1)\n",
            "Requirement already satisfied: typing-extensions>=3.7.4.3 in /usr/local/lib/python3.9/dist-packages (from huggingface-hub<1.0,>=0.11.0->transformers) (4.5.0)\n",
            "Requirement already satisfied: idna<4,>=2.5 in /usr/local/lib/python3.9/dist-packages (from requests->transformers) (3.4)\n",
            "Requirement already satisfied: charset-normalizer~=2.0.0 in /usr/local/lib/python3.9/dist-packages (from requests->transformers) (2.0.12)\n",
            "Requirement already satisfied: urllib3<1.27,>=1.21.1 in /usr/local/lib/python3.9/dist-packages (from requests->transformers) (1.26.15)\n",
            "Requirement already satisfied: certifi>=2017.4.17 in /usr/local/lib/python3.9/dist-packages (from requests->transformers) (2022.12.7)\n"
          ]
        }
      ],
      "source": [
        "!pip install transformers"
      ]
    },
    {
      "cell_type": "code",
      "execution_count": null,
      "metadata": {
        "id": "Q_E1LuLYA5I8"
      },
      "outputs": [],
      "source": [
        "import pandas as pd\n",
        "import torch\n",
        "import numpy as np\n",
        "from transformers import ElectraTokenizer, ElectraForSequenceClassification\n",
        "from torch import nn\n",
        "from torch.optim import Adam\n",
        "from tqdm import tqdm\n",
        "from transformers import AutoTokenizer, AutoModel, ElectraModel\n",
        "from transformers import set_seed"
      ]
    },
    {
      "cell_type": "code",
      "execution_count": null,
      "metadata": {
        "id": "xhmotJpOBBJQ"
      },
      "outputs": [],
      "source": [
        "datapath = '/content/ClariQ/data/train.tsv'\n",
        "df = pd.read_csv(datapath, sep='\\t')\n",
        "df_train=df.drop_duplicates('initial_request')"
      ]
    },
    {
      "cell_type": "code",
      "execution_count": null,
      "metadata": {
        "colab": {
          "base_uri": "https://localhost:8080/",
          "height": 406
        },
        "id": "yNAjS-VaBUyU",
        "outputId": "e32da54e-82d3-49bb-e07f-10a854a65fb2"
      },
      "outputs": [
        {
          "output_type": "execute_result",
          "data": {
            "text/plain": [
              "     topic_id                                    initial_request  \\\n",
              "0         101  Find me information about the Ritz Carlton Lak...   \n",
              "60        106      I'm looking for universal animal cuts reviews   \n",
              "102       107                 tell me about cass county missouri   \n",
              "192       114                  Tell about an adobe indian house?   \n",
              "231       123                    What is von Willebrand Disease?   \n",
              "\n",
              "                                            topic_desc  clarification_need  \\\n",
              "0    Find information about the Ritz Carlton resort...                   2   \n",
              "60   Find testimonials of Universal Animal Cuts nut...                   3   \n",
              "102  Find demographic information about Cass County...                   3   \n",
              "192                 How does one build an adobe house?                   2   \n",
              "231                    What is von Willebrand Disease?                   3   \n",
              "\n",
              "    facet_id                                         facet_desc question_id  \\\n",
              "0      F0010  Find information about the Ritz Carlton resort...      Q00697   \n",
              "60     F0028  Find testimonials of Universal Animal Cuts nut...      Q01481   \n",
              "102    F0031  Find demographic information about Cass County...      Q00086   \n",
              "192    F0063                 How does one build an adobe house?      Q00057   \n",
              "231    F0100                    What is von Willebrand Disease?      Q00284   \n",
              "\n",
              "                                              question  \\\n",
              "0              are you looking for a specific web site   \n",
              "60              did universal animal cuts work for you   \n",
              "102  are you interested in a list of homes for sale...   \n",
              "192  are you going to purchase any specific product...   \n",
              "231  are you interested in learning about treatment...   \n",
              "\n",
              "                                                answer  \n",
              "0    yes for the ritz carlton resort at lake las vegas  \n",
              "60   i need testimonials on the universal animal cu...  \n",
              "102      no i want demographic info for cass county mo  \n",
              "192                                              maybe  \n",
              "231                   id like to know what it is first  "
            ],
            "text/html": [
              "\n",
              "  <div id=\"df-c921a46a-cf6e-4f19-b43d-3c3753a0572f\">\n",
              "    <div class=\"colab-df-container\">\n",
              "      <div>\n",
              "<style scoped>\n",
              "    .dataframe tbody tr th:only-of-type {\n",
              "        vertical-align: middle;\n",
              "    }\n",
              "\n",
              "    .dataframe tbody tr th {\n",
              "        vertical-align: top;\n",
              "    }\n",
              "\n",
              "    .dataframe thead th {\n",
              "        text-align: right;\n",
              "    }\n",
              "</style>\n",
              "<table border=\"1\" class=\"dataframe\">\n",
              "  <thead>\n",
              "    <tr style=\"text-align: right;\">\n",
              "      <th></th>\n",
              "      <th>topic_id</th>\n",
              "      <th>initial_request</th>\n",
              "      <th>topic_desc</th>\n",
              "      <th>clarification_need</th>\n",
              "      <th>facet_id</th>\n",
              "      <th>facet_desc</th>\n",
              "      <th>question_id</th>\n",
              "      <th>question</th>\n",
              "      <th>answer</th>\n",
              "    </tr>\n",
              "  </thead>\n",
              "  <tbody>\n",
              "    <tr>\n",
              "      <th>0</th>\n",
              "      <td>101</td>\n",
              "      <td>Find me information about the Ritz Carlton Lak...</td>\n",
              "      <td>Find information about the Ritz Carlton resort...</td>\n",
              "      <td>2</td>\n",
              "      <td>F0010</td>\n",
              "      <td>Find information about the Ritz Carlton resort...</td>\n",
              "      <td>Q00697</td>\n",
              "      <td>are you looking for a specific web site</td>\n",
              "      <td>yes for the ritz carlton resort at lake las vegas</td>\n",
              "    </tr>\n",
              "    <tr>\n",
              "      <th>60</th>\n",
              "      <td>106</td>\n",
              "      <td>I'm looking for universal animal cuts reviews</td>\n",
              "      <td>Find testimonials of Universal Animal Cuts nut...</td>\n",
              "      <td>3</td>\n",
              "      <td>F0028</td>\n",
              "      <td>Find testimonials of Universal Animal Cuts nut...</td>\n",
              "      <td>Q01481</td>\n",
              "      <td>did universal animal cuts work for you</td>\n",
              "      <td>i need testimonials on the universal animal cu...</td>\n",
              "    </tr>\n",
              "    <tr>\n",
              "      <th>102</th>\n",
              "      <td>107</td>\n",
              "      <td>tell me about cass county missouri</td>\n",
              "      <td>Find demographic information about Cass County...</td>\n",
              "      <td>3</td>\n",
              "      <td>F0031</td>\n",
              "      <td>Find demographic information about Cass County...</td>\n",
              "      <td>Q00086</td>\n",
              "      <td>are you interested in a list of homes for sale...</td>\n",
              "      <td>no i want demographic info for cass county mo</td>\n",
              "    </tr>\n",
              "    <tr>\n",
              "      <th>192</th>\n",
              "      <td>114</td>\n",
              "      <td>Tell about an adobe indian house?</td>\n",
              "      <td>How does one build an adobe house?</td>\n",
              "      <td>2</td>\n",
              "      <td>F0063</td>\n",
              "      <td>How does one build an adobe house?</td>\n",
              "      <td>Q00057</td>\n",
              "      <td>are you going to purchase any specific product...</td>\n",
              "      <td>maybe</td>\n",
              "    </tr>\n",
              "    <tr>\n",
              "      <th>231</th>\n",
              "      <td>123</td>\n",
              "      <td>What is von Willebrand Disease?</td>\n",
              "      <td>What is von Willebrand Disease?</td>\n",
              "      <td>3</td>\n",
              "      <td>F0100</td>\n",
              "      <td>What is von Willebrand Disease?</td>\n",
              "      <td>Q00284</td>\n",
              "      <td>are you interested in learning about treatment...</td>\n",
              "      <td>id like to know what it is first</td>\n",
              "    </tr>\n",
              "  </tbody>\n",
              "</table>\n",
              "</div>\n",
              "      <button class=\"colab-df-convert\" onclick=\"convertToInteractive('df-c921a46a-cf6e-4f19-b43d-3c3753a0572f')\"\n",
              "              title=\"Convert this dataframe to an interactive table.\"\n",
              "              style=\"display:none;\">\n",
              "        \n",
              "  <svg xmlns=\"http://www.w3.org/2000/svg\" height=\"24px\"viewBox=\"0 0 24 24\"\n",
              "       width=\"24px\">\n",
              "    <path d=\"M0 0h24v24H0V0z\" fill=\"none\"/>\n",
              "    <path d=\"M18.56 5.44l.94 2.06.94-2.06 2.06-.94-2.06-.94-.94-2.06-.94 2.06-2.06.94zm-11 1L8.5 8.5l.94-2.06 2.06-.94-2.06-.94L8.5 2.5l-.94 2.06-2.06.94zm10 10l.94 2.06.94-2.06 2.06-.94-2.06-.94-.94-2.06-.94 2.06-2.06.94z\"/><path d=\"M17.41 7.96l-1.37-1.37c-.4-.4-.92-.59-1.43-.59-.52 0-1.04.2-1.43.59L10.3 9.45l-7.72 7.72c-.78.78-.78 2.05 0 2.83L4 21.41c.39.39.9.59 1.41.59.51 0 1.02-.2 1.41-.59l7.78-7.78 2.81-2.81c.8-.78.8-2.07 0-2.86zM5.41 20L4 18.59l7.72-7.72 1.47 1.35L5.41 20z\"/>\n",
              "  </svg>\n",
              "      </button>\n",
              "      \n",
              "  <style>\n",
              "    .colab-df-container {\n",
              "      display:flex;\n",
              "      flex-wrap:wrap;\n",
              "      gap: 12px;\n",
              "    }\n",
              "\n",
              "    .colab-df-convert {\n",
              "      background-color: #E8F0FE;\n",
              "      border: none;\n",
              "      border-radius: 50%;\n",
              "      cursor: pointer;\n",
              "      display: none;\n",
              "      fill: #1967D2;\n",
              "      height: 32px;\n",
              "      padding: 0 0 0 0;\n",
              "      width: 32px;\n",
              "    }\n",
              "\n",
              "    .colab-df-convert:hover {\n",
              "      background-color: #E2EBFA;\n",
              "      box-shadow: 0px 1px 2px rgba(60, 64, 67, 0.3), 0px 1px 3px 1px rgba(60, 64, 67, 0.15);\n",
              "      fill: #174EA6;\n",
              "    }\n",
              "\n",
              "    [theme=dark] .colab-df-convert {\n",
              "      background-color: #3B4455;\n",
              "      fill: #D2E3FC;\n",
              "    }\n",
              "\n",
              "    [theme=dark] .colab-df-convert:hover {\n",
              "      background-color: #434B5C;\n",
              "      box-shadow: 0px 1px 3px 1px rgba(0, 0, 0, 0.15);\n",
              "      filter: drop-shadow(0px 1px 2px rgba(0, 0, 0, 0.3));\n",
              "      fill: #FFFFFF;\n",
              "    }\n",
              "  </style>\n",
              "\n",
              "      <script>\n",
              "        const buttonEl =\n",
              "          document.querySelector('#df-c921a46a-cf6e-4f19-b43d-3c3753a0572f button.colab-df-convert');\n",
              "        buttonEl.style.display =\n",
              "          google.colab.kernel.accessAllowed ? 'block' : 'none';\n",
              "\n",
              "        async function convertToInteractive(key) {\n",
              "          const element = document.querySelector('#df-c921a46a-cf6e-4f19-b43d-3c3753a0572f');\n",
              "          const dataTable =\n",
              "            await google.colab.kernel.invokeFunction('convertToInteractive',\n",
              "                                                     [key], {});\n",
              "          if (!dataTable) return;\n",
              "\n",
              "          const docLinkHtml = 'Like what you see? Visit the ' +\n",
              "            '<a target=\"_blank\" href=https://colab.research.google.com/notebooks/data_table.ipynb>data table notebook</a>'\n",
              "            + ' to learn more about interactive tables.';\n",
              "          element.innerHTML = '';\n",
              "          dataTable['output_type'] = 'display_data';\n",
              "          await google.colab.output.renderOutput(dataTable, element);\n",
              "          const docLink = document.createElement('div');\n",
              "          docLink.innerHTML = docLinkHtml;\n",
              "          element.appendChild(docLink);\n",
              "        }\n",
              "      </script>\n",
              "    </div>\n",
              "  </div>\n",
              "  "
            ]
          },
          "metadata": {},
          "execution_count": 21
        }
      ],
      "source": [
        "datapath = '/content/ClariQ/data/dev.tsv'\n",
        "df_dev = pd.read_csv(datapath, sep='\\t')\n",
        "df_dev=df_dev.drop_duplicates('initial_request')\n",
        "df_dev.head()"
      ]
    },
    {
      "cell_type": "code",
      "execution_count": null,
      "metadata": {
        "id": "1_jgdwHxBdvv"
      },
      "outputs": [],
      "source": [
        "df_train.groupby(['clarification_need'])\n",
        "df_dev.groupby(['clarification_need'])\n",
        "set_seed(42)"
      ]
    },
    {
      "cell_type": "code",
      "execution_count": null,
      "metadata": {
        "id": "03Tfy1EeG9OF"
      },
      "outputs": [],
      "source": [
        "tokenizer = AutoTokenizer.from_pretrained(\"google/electra-base-discriminator\")"
      ]
    },
    {
      "cell_type": "code",
      "execution_count": null,
      "metadata": {
        "id": "itQYOIX7ETUu"
      },
      "outputs": [],
      "source": [
        "class Dataset(torch.utils.data.Dataset):\n",
        "\n",
        "    def __init__(self, df):\n",
        "\n",
        "        self.labels = [label-1 for label in df['clarification_need']]\n",
        "        self.texts = [tokenizer(text, \n",
        "                               padding='max_length', max_length = 512, truncation=True,\n",
        "                                return_tensors=\"pt\") for text in df['initial_request']]\n",
        "\n",
        "    def classes(self):\n",
        "        return self.labels\n",
        "\n",
        "    def __len__(self):\n",
        "        return len(self.labels)\n",
        "\n",
        "    def get_batch_labels(self, idx):\n",
        "        # Fetch a batch of labels\n",
        "        return np.array(self.labels[idx])\n",
        "\n",
        "    def get_batch_texts(self, idx):\n",
        "        # Fetch a batch of inputs\n",
        "        return self.texts[idx]\n",
        "\n",
        "    def __getitem__(self, idx):\n",
        "\n",
        "        batch_texts = self.get_batch_texts(idx)\n",
        "        batch_y = self.get_batch_labels(idx)\n",
        "\n",
        "        return batch_texts, batch_y"
      ]
    },
    {
      "cell_type": "code",
      "execution_count": null,
      "metadata": {
        "id": "2dgj99TkEwpe"
      },
      "outputs": [],
      "source": [
        "class ElectraClassifier(nn.Module):\n",
        "\n",
        "    def __init__(self, dropout=0.3):\n",
        "\n",
        "        super(ElectraClassifier, self).__init__()\n",
        "\n",
        "        self.electra = ElectraModel.from_pretrained(\"google/electra-base-discriminator\", problem_type=\"multi_label_classification\")\n",
        "        self.dropout = nn.Dropout(dropout)\n",
        "        self.linear = nn.Linear(768, 4)\n",
        "        self.relu = nn.ReLU()\n",
        "\n",
        "    def forward(self, input_id, mask):\n",
        "        pooled_output = self.electra(input_ids=input_id, attention_mask=mask)\n",
        "        pooled_output=pooled_output.last_hidden_state\n",
        "        pooled_output=pooled_output[:,-1]\n",
        "        dropout_output = self.dropout(pooled_output)\n",
        "        linear_output = self.linear(dropout_output)\n",
        "        final_layer = self.relu(linear_output)\n",
        "\n",
        "        return final_layer"
      ]
    },
    {
      "cell_type": "code",
      "execution_count": null,
      "metadata": {
        "id": "T-_gGewfF7_m"
      },
      "outputs": [],
      "source": [
        "def train(model, train_data, val_data, learning_rate, epochs):\n",
        "\n",
        "    train =  Dataset(train_data)\n",
        "    val = Dataset(val_data)\n",
        "\n",
        "    train_dataloader = torch.utils.data.DataLoader(train, batch_size=8, shuffle=True)\n",
        "    val_dataloader = torch.utils.data.DataLoader(val, batch_size=8)\n",
        "\n",
        "    use_cuda = torch.cuda.is_available()\n",
        "    device = torch.device(\"cuda\" if use_cuda else \"cpu\")\n",
        "\n",
        "    criterion = nn.CrossEntropyLoss()\n",
        "    optimizer = Adam(model.parameters(), lr= learning_rate)\n",
        "\n",
        "    if use_cuda:\n",
        "            torch.cuda.empty_cache()\n",
        "\n",
        "            model = model.cuda()\n",
        "            criterion = criterion.cuda()\n",
        "\n",
        "    for epoch_num in range(epochs):\n",
        "\n",
        "            total_acc_train = 0\n",
        "            total_loss_train = 0\n",
        "\n",
        "            for train_input, train_label in tqdm(train_dataloader):\n",
        "\n",
        "                train_label = train_label.to(device)\n",
        "                mask = train_input['attention_mask'].to(device)\n",
        "                input_id = train_input['input_ids'].squeeze(1).to(device)\n",
        "\n",
        "                output = model(input_id, mask) \n",
        "                \n",
        "                batch_loss = criterion(output, train_label.long())\n",
        "                total_loss_train += batch_loss.item()\n",
        "                \n",
        "                acc = (output.argmax(dim=1) == train_label).sum().item()\n",
        "                total_acc_train += acc\n",
        "\n",
        "                model.zero_grad()\n",
        "                batch_loss.backward()\n",
        "                optimizer.step()\n",
        "            \n",
        "            total_acc_val = 0\n",
        "            total_loss_val = 0\n",
        "\n",
        "            with torch.no_grad():\n",
        "\n",
        "                for val_input, val_label in val_dataloader:\n",
        "\n",
        "                    val_label = val_label.to(device)\n",
        "                    mask = val_input['attention_mask'].to(device)\n",
        "                    input_id = val_input['input_ids'].squeeze(1).to(device)\n",
        "\n",
        "                    output = model(input_id, mask) #\n",
        "\n",
        "                    batch_loss = criterion(output, val_label.long())\n",
        "                    total_loss_val += batch_loss.item()\n",
        "                    \n",
        "                    acc = (output.argmax(dim=1) == val_label).sum().item()\n",
        "                    total_acc_val += acc\n",
        "            \n",
        "            print(\n",
        "                f'Epochs: {epoch_num + 1} | Train Loss: {total_loss_train / len(train_data): .3f} \\\n",
        "                | Train Accuracy: {total_acc_train / len(train_data): .3f} \\\n",
        "                | Val Loss: {total_loss_val / len(val_data): .3f} \\\n",
        "                | Val Accuracy: {total_acc_val / len(val_data): .3f}')"
      ]
    },
    {
      "cell_type": "code",
      "execution_count": null,
      "metadata": {
        "id": "qkyvAg8aGHmA"
      },
      "outputs": [],
      "source": [
        "def evaluate(model, test_data):\n",
        "\n",
        "    test = Dataset(test_data)\n",
        "\n",
        "    test_dataloader = torch.utils.data.DataLoader(test, batch_size=2)\n",
        "\n",
        "    use_cuda = torch.cuda.is_available()\n",
        "    device = torch.device(\"cuda\" if use_cuda else \"cpu\")\n",
        "\n",
        "    if use_cuda:\n",
        "\n",
        "        model = model.cuda()\n",
        "\n",
        "    total_acc_test = 0\n",
        "    with torch.no_grad():\n",
        "\n",
        "        for test_input, test_label in test_dataloader:\n",
        "\n",
        "              test_label = test_label.to(device)\n",
        "              mask = test_input['attention_mask'].to(device)\n",
        "              input_id = test_input['input_ids'].squeeze(1).to(device)\n",
        "\n",
        "              output = model(input_id, mask)\n",
        "\n",
        "              acc = (output.argmax(dim=1) == test_label).sum().item()\n",
        "              total_acc_test += acc\n",
        "    \n",
        "    print(f'Test Accuracy: {total_acc_test / len(test_data): .3f}')"
      ]
    },
    {
      "cell_type": "code",
      "source": [
        "from sklearn.metrics import precision_score, recall_score, f1_score\n",
        "def eval_result(preds, labels):\n",
        "    \"\"\" Calculate the accuracy, f1, precision, recall of our predictions vs labels\n",
        "    \"\"\"\n",
        "\n",
        "    y_pred = np.argmax(preds, axis=1).flatten()\n",
        "    y_true = labels.flatten()\n",
        "\n",
        "    precision = precision_score(y_true, y_pred, average='macro')\n",
        "    recall = recall_score(y_true, y_pred, average='macro')\n",
        "    f1 = f1_score(y_true, y_pred, average='macro')\n",
        "    accuracy = np.sum(y_pred == y_true) / len(y_true) \n",
        "\n",
        "    return (precision, recall, f1, accuracy)\n",
        "\n",
        "from sklearn.metrics import classification_report\n",
        "\n",
        "def eval_model( model, epoch,lr,test_dataloader):\n",
        "    \n",
        "    if torch.cuda.is_available():    \n",
        "        device = torch.device(\"cuda\")\n",
        "        model.cuda()\n",
        "    else:\n",
        "        device = torch.device(\"cpu\")\n",
        "\n",
        "\n",
        "    model.eval()\n",
        "\n",
        "    test_results = []\n",
        "    test_labels = []\n",
        "    test_results_predicted_lavels = [] \n",
        "    for test_input, test_label in tqdm(test_dataloader):\n",
        "\n",
        "      test_label = test_label.to(device)\n",
        "      mask = test_input['attention_mask'].to(device)\n",
        "      input_id = test_input['input_ids'].squeeze(1).to(device)\n",
        "       \n",
        "      with torch.no_grad():        \n",
        "        result = model(input_id,mask)\n",
        "\n",
        "      logits = result\n",
        "      logits = logits.detach().cpu().numpy()\n",
        "      test_results.extend(logits.tolist())\n",
        "      tmp = np.asarray(logits.tolist())\n",
        "      test_results_predicted_lavels.extend(np.argmax(tmp, axis=1).flatten())\n",
        "      label_ids = test_label.to('cpu').numpy()\n",
        "      test_labels.extend(label_ids)\n",
        "\n",
        "    print(classification_report( np.asarray(test_labels), np.asarray(test_results_predicted_lavels)))\n",
        "    (precision, recall, f1, accuracy) = eval_result(np.asarray(test_results), np.asarray(test_labels))\n",
        "\n",
        "    print('Test Precision: {:.4f}, Test Recall: {:.4f}, Test Macro F1: {:.4f}, Test Accuracy: {:.4f} ' .format(precision, recall, f1, accuracy))"
      ],
      "metadata": {
        "id": "39YUi05TcKv9"
      },
      "execution_count": null,
      "outputs": []
    },
    {
      "cell_type": "code",
      "execution_count": null,
      "metadata": {
        "colab": {
          "base_uri": "https://localhost:8080/"
        },
        "id": "ecFsgBhwOSUw",
        "outputId": "8c4da16b-d5b7-4d47-90ff-f82e6f8911c1"
      },
      "outputs": [
        {
          "output_type": "stream",
          "name": "stderr",
          "text": [
            "Some weights of the model checkpoint at google/electra-base-discriminator were not used when initializing ElectraModel: ['discriminator_predictions.dense.bias', 'discriminator_predictions.dense_prediction.bias', 'discriminator_predictions.dense.weight', 'discriminator_predictions.dense_prediction.weight']\n",
            "- This IS expected if you are initializing ElectraModel from the checkpoint of a model trained on another task or with another architecture (e.g. initializing a BertForSequenceClassification model from a BertForPreTraining model).\n",
            "- This IS NOT expected if you are initializing ElectraModel from the checkpoint of a model that you expect to be exactly identical (initializing a BertForSequenceClassification model from a BertForSequenceClassification model).\n",
            "100%|██████████| 24/24 [00:15<00:00,  1.58it/s]\n"
          ]
        },
        {
          "output_type": "stream",
          "name": "stdout",
          "text": [
            "Epochs: 1 | Train Loss:  0.176                 | Train Accuracy:  0.310                 | Val Loss:  0.194                 | Val Accuracy:  0.340\n"
          ]
        },
        {
          "output_type": "stream",
          "name": "stderr",
          "text": [
            "100%|██████████| 24/24 [00:15<00:00,  1.55it/s]\n"
          ]
        },
        {
          "output_type": "stream",
          "name": "stdout",
          "text": [
            "Epochs: 2 | Train Loss:  0.163                 | Train Accuracy:  0.444                 | Val Loss:  0.187                 | Val Accuracy:  0.260\n"
          ]
        },
        {
          "output_type": "stream",
          "name": "stderr",
          "text": [
            "100%|██████████| 24/24 [00:15<00:00,  1.53it/s]\n"
          ]
        },
        {
          "output_type": "stream",
          "name": "stdout",
          "text": [
            "Epochs: 3 | Train Loss:  0.146                 | Train Accuracy:  0.583                 | Val Loss:  0.182                 | Val Accuracy:  0.360\n"
          ]
        },
        {
          "output_type": "stream",
          "name": "stderr",
          "text": [
            "100%|██████████| 24/24 [00:15<00:00,  1.52it/s]\n"
          ]
        },
        {
          "output_type": "stream",
          "name": "stdout",
          "text": [
            "Epochs: 4 | Train Loss:  0.121                 | Train Accuracy:  0.711                 | Val Loss:  0.179                 | Val Accuracy:  0.480\n"
          ]
        },
        {
          "output_type": "stream",
          "name": "stderr",
          "text": [
            "100%|██████████| 24/24 [00:15<00:00,  1.54it/s]\n"
          ]
        },
        {
          "output_type": "stream",
          "name": "stdout",
          "text": [
            "Epochs: 5 | Train Loss:  0.095                 | Train Accuracy:  0.765                 | Val Loss:  0.177                 | Val Accuracy:  0.480\n"
          ]
        },
        {
          "output_type": "stream",
          "name": "stderr",
          "text": [
            "100%|██████████| 24/24 [00:15<00:00,  1.55it/s]\n"
          ]
        },
        {
          "output_type": "stream",
          "name": "stdout",
          "text": [
            "Epochs: 6 | Train Loss:  0.070                 | Train Accuracy:  0.872                 | Val Loss:  0.185                 | Val Accuracy:  0.460\n"
          ]
        },
        {
          "output_type": "stream",
          "name": "stderr",
          "text": [
            "100%|██████████| 24/24 [00:15<00:00,  1.55it/s]\n"
          ]
        },
        {
          "output_type": "stream",
          "name": "stdout",
          "text": [
            "Epochs: 7 | Train Loss:  0.049                 | Train Accuracy:  0.930                 | Val Loss:  0.183                 | Val Accuracy:  0.460\n"
          ]
        },
        {
          "output_type": "stream",
          "name": "stderr",
          "text": [
            "100%|██████████| 24/24 [00:15<00:00,  1.54it/s]\n"
          ]
        },
        {
          "output_type": "stream",
          "name": "stdout",
          "text": [
            "Epochs: 8 | Train Loss:  0.037                 | Train Accuracy:  0.963                 | Val Loss:  0.181                 | Val Accuracy:  0.460\n"
          ]
        },
        {
          "output_type": "stream",
          "name": "stderr",
          "text": [
            "100%|██████████| 24/24 [00:15<00:00,  1.54it/s]\n"
          ]
        },
        {
          "output_type": "stream",
          "name": "stdout",
          "text": [
            "Epochs: 9 | Train Loss:  0.027                 | Train Accuracy:  0.979                 | Val Loss:  0.186                 | Val Accuracy:  0.500\n"
          ]
        },
        {
          "output_type": "stream",
          "name": "stderr",
          "text": [
            "100%|██████████| 24/24 [00:15<00:00,  1.55it/s]\n"
          ]
        },
        {
          "output_type": "stream",
          "name": "stdout",
          "text": [
            "Epochs: 10 | Train Loss:  0.019                 | Train Accuracy:  0.989                 | Val Loss:  0.197                 | Val Accuracy:  0.420\n"
          ]
        },
        {
          "output_type": "stream",
          "name": "stderr",
          "text": [
            "100%|██████████| 24/24 [00:15<00:00,  1.55it/s]\n"
          ]
        },
        {
          "output_type": "stream",
          "name": "stdout",
          "text": [
            "Epochs: 11 | Train Loss:  0.014                 | Train Accuracy:  0.995                 | Val Loss:  0.184                 | Val Accuracy:  0.460\n"
          ]
        }
      ],
      "source": [
        "EPOCHS = 11\n",
        "model = ElectraClassifier()\n",
        "LR = 1e-5\n",
        "              \n",
        "train(model, df_train, df_dev, LR, EPOCHS)"
      ]
    },
    {
      "cell_type": "code",
      "source": [
        "datapath = '/content/ClariQ/data/test_with_labels.tsv'\n",
        "df_test = pd.read_csv(datapath, sep='\\t')\n",
        "df_test = df_test.drop_duplicates('initial_request')\n",
        "df_train.groupby(['clarification_need'])"
      ],
      "metadata": {
        "id": "sOvbhXti6D5r",
        "colab": {
          "base_uri": "https://localhost:8080/"
        },
        "outputId": "68bb7689-1127-40cb-b6f2-6505f185f47d"
      },
      "execution_count": null,
      "outputs": [
        {
          "output_type": "execute_result",
          "data": {
            "text/plain": [
              "<pandas.core.groupby.generic.DataFrameGroupBy object at 0x7feb4c93d430>"
            ]
          },
          "metadata": {},
          "execution_count": 30
        }
      ]
    },
    {
      "cell_type": "code",
      "execution_count": null,
      "metadata": {
        "id": "HRzMingWf13f",
        "colab": {
          "base_uri": "https://localhost:8080/"
        },
        "outputId": "d8f0bcc5-3b9c-4be3-e6b4-2c5f5c514c6f"
      },
      "outputs": [
        {
          "output_type": "stream",
          "name": "stderr",
          "text": [
            "100%|██████████| 8/8 [00:01<00:00,  4.25it/s]\n"
          ]
        },
        {
          "output_type": "stream",
          "name": "stdout",
          "text": [
            "              precision    recall  f1-score   support\n",
            "\n",
            "           0       0.27      0.38      0.32         8\n",
            "           1       0.61      0.59      0.60        32\n",
            "           2       0.50      0.39      0.44        18\n",
            "           3       0.17      0.25      0.20         4\n",
            "\n",
            "    accuracy                           0.48        62\n",
            "   macro avg       0.39      0.40      0.39        62\n",
            "weighted avg       0.51      0.48      0.49        62\n",
            "\n",
            "Test Precision: 0.3881, Test Recall: 0.4019, Test Macro F1: 0.3891, Test Accuracy: 0.4839 \n"
          ]
        },
        {
          "output_type": "stream",
          "name": "stderr",
          "text": [
            "100%|██████████| 7/7 [00:01<00:00,  4.69it/s]"
          ]
        },
        {
          "output_type": "stream",
          "name": "stdout",
          "text": [
            "              precision    recall  f1-score   support\n",
            "\n",
            "           0       0.33      0.50      0.40         4\n",
            "           1       0.61      0.52      0.56        21\n",
            "           2       0.41      0.56      0.47        16\n",
            "           3       0.50      0.22      0.31         9\n",
            "\n",
            "    accuracy                           0.48        50\n",
            "   macro avg       0.46      0.45      0.44        50\n",
            "weighted avg       0.50      0.48      0.48        50\n",
            "\n",
            "Test Precision: 0.4634, Test Recall: 0.4521, Test Macro F1: 0.4364, Test Accuracy: 0.4800 \n"
          ]
        },
        {
          "output_type": "stream",
          "name": "stderr",
          "text": [
            "\n"
          ]
        }
      ],
      "source": [
        "test = Dataset(df_test)\n",
        "test_dataloader = torch.utils.data.DataLoader(test, batch_size=8, shuffle=True)\n",
        "val = Dataset(df_dev)\n",
        "val_dataloader = torch.utils.data.DataLoader(val, batch_size=8)\n",
        "eval_model(model, EPOCHS , LR ,test_dataloader)\n",
        "eval_model(model, EPOCHS , LR ,val_dataloader)"
      ]
    }
  ],
  "metadata": {
    "colab": {
      "provenance": []
    },
    "kernelspec": {
      "display_name": "Python 3",
      "name": "python3"
    },
    "language_info": {
      "name": "python"
    },
    "accelerator": "GPU",
    "gpuClass": "standard"
  },
  "nbformat": 4,
  "nbformat_minor": 0
}